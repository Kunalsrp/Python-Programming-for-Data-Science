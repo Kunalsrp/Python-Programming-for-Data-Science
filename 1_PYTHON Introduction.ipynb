{
 "cells": [
  {
   "cell_type": "code",
   "execution_count": 1,
   "id": "620fb422",
   "metadata": {},
   "outputs": [],
   "source": [
    "# pandas.pydata.org"
   ]
  },
  {
   "cell_type": "code",
   "execution_count": 2,
   "id": "356e40ad",
   "metadata": {},
   "outputs": [
    {
     "name": "stdout",
     "output_type": "stream",
     "text": [
      "Welcome to Python\n"
     ]
    }
   ],
   "source": [
    "print(\"Welcome to Python\")"
   ]
  },
  {
   "cell_type": "code",
   "execution_count": 3,
   "id": "53b76a29",
   "metadata": {},
   "outputs": [
    {
     "name": "stdout",
     "output_type": "stream",
     "text": [
      "\"Welcome to Python\"\n"
     ]
    }
   ],
   "source": [
    "print(\"\\\"Welcome to Python\\\"\")"
   ]
  },
  {
   "cell_type": "code",
   "execution_count": 4,
   "id": "d3da572d",
   "metadata": {},
   "outputs": [
    {
     "data": {
      "text/plain": [
       "'hello'"
      ]
     },
     "execution_count": 4,
     "metadata": {},
     "output_type": "execute_result"
    }
   ],
   "source": [
    "\"hello\""
   ]
  },
  {
   "cell_type": "code",
   "execution_count": 5,
   "id": "24cb84b5",
   "metadata": {},
   "outputs": [
    {
     "data": {
      "text/plain": [
       "8.0"
      ]
     },
     "execution_count": 5,
     "metadata": {},
     "output_type": "execute_result"
    }
   ],
   "source": [
    "120/12+2-4"
   ]
  },
  {
   "cell_type": "code",
   "execution_count": 6,
   "id": "5331e79f",
   "metadata": {},
   "outputs": [
    {
     "data": {
      "text/plain": [
       "20"
      ]
     },
     "execution_count": 6,
     "metadata": {},
     "output_type": "execute_result"
    }
   ],
   "source": [
    "marks = 20\n",
    "marks"
   ]
  },
  {
   "cell_type": "code",
   "execution_count": 7,
   "id": "b84e0c8b",
   "metadata": {},
   "outputs": [
    {
     "data": {
      "text/plain": [
       "int"
      ]
     },
     "execution_count": 7,
     "metadata": {},
     "output_type": "execute_result"
    }
   ],
   "source": [
    "type(marks)"
   ]
  },
  {
   "cell_type": "code",
   "execution_count": 8,
   "id": "9189aa98",
   "metadata": {},
   "outputs": [
    {
     "data": {
      "text/plain": [
       "9"
      ]
     },
     "execution_count": 8,
     "metadata": {},
     "output_type": "execute_result"
    }
   ],
   "source": [
    "3**2"
   ]
  },
  {
   "cell_type": "code",
   "execution_count": 11,
   "id": "74aeb004",
   "metadata": {},
   "outputs": [
    {
     "name": "stdout",
     "output_type": "stream",
     "text": [
      "50.0\n"
     ]
    },
    {
     "data": {
      "text/plain": [
       "float"
      ]
     },
     "execution_count": 11,
     "metadata": {},
     "output_type": "execute_result"
    }
   ],
   "source": [
    "price = 50.0\n",
    "print(price)\n",
    "type(price)"
   ]
  },
  {
   "cell_type": "code",
   "execution_count": 13,
   "id": "626af2e5",
   "metadata": {},
   "outputs": [
    {
     "name": "stdout",
     "output_type": "stream",
     "text": [
      "<class 'float'>\n"
     ]
    },
    {
     "data": {
      "text/plain": [
       "50.0"
      ]
     },
     "execution_count": 13,
     "metadata": {},
     "output_type": "execute_result"
    }
   ],
   "source": [
    "price = 50.0\n",
    "#print(price)\n",
    "print(type(price))\n",
    "price"
   ]
  },
  {
   "cell_type": "code",
   "execution_count": 14,
   "id": "f59bdd56",
   "metadata": {},
   "outputs": [
    {
     "data": {
      "text/plain": [
       "str"
      ]
     },
     "execution_count": 14,
     "metadata": {},
     "output_type": "execute_result"
    }
   ],
   "source": [
    "name = \"Kunal\"\n",
    "type(name)"
   ]
  },
  {
   "cell_type": "code",
   "execution_count": 15,
   "id": "ed46413d",
   "metadata": {
    "scrolled": true
   },
   "outputs": [
    {
     "data": {
      "text/plain": [
       "['__add__',\n",
       " '__class__',\n",
       " '__contains__',\n",
       " '__delattr__',\n",
       " '__dir__',\n",
       " '__doc__',\n",
       " '__eq__',\n",
       " '__format__',\n",
       " '__ge__',\n",
       " '__getattribute__',\n",
       " '__getitem__',\n",
       " '__getnewargs__',\n",
       " '__gt__',\n",
       " '__hash__',\n",
       " '__init__',\n",
       " '__init_subclass__',\n",
       " '__iter__',\n",
       " '__le__',\n",
       " '__len__',\n",
       " '__lt__',\n",
       " '__mod__',\n",
       " '__mul__',\n",
       " '__ne__',\n",
       " '__new__',\n",
       " '__reduce__',\n",
       " '__reduce_ex__',\n",
       " '__repr__',\n",
       " '__rmod__',\n",
       " '__rmul__',\n",
       " '__setattr__',\n",
       " '__sizeof__',\n",
       " '__str__',\n",
       " '__subclasshook__',\n",
       " 'capitalize',\n",
       " 'casefold',\n",
       " 'center',\n",
       " 'count',\n",
       " 'encode',\n",
       " 'endswith',\n",
       " 'expandtabs',\n",
       " 'find',\n",
       " 'format',\n",
       " 'format_map',\n",
       " 'index',\n",
       " 'isalnum',\n",
       " 'isalpha',\n",
       " 'isascii',\n",
       " 'isdecimal',\n",
       " 'isdigit',\n",
       " 'isidentifier',\n",
       " 'islower',\n",
       " 'isnumeric',\n",
       " 'isprintable',\n",
       " 'isspace',\n",
       " 'istitle',\n",
       " 'isupper',\n",
       " 'join',\n",
       " 'ljust',\n",
       " 'lower',\n",
       " 'lstrip',\n",
       " 'maketrans',\n",
       " 'partition',\n",
       " 'removeprefix',\n",
       " 'removesuffix',\n",
       " 'replace',\n",
       " 'rfind',\n",
       " 'rindex',\n",
       " 'rjust',\n",
       " 'rpartition',\n",
       " 'rsplit',\n",
       " 'rstrip',\n",
       " 'split',\n",
       " 'splitlines',\n",
       " 'startswith',\n",
       " 'strip',\n",
       " 'swapcase',\n",
       " 'title',\n",
       " 'translate',\n",
       " 'upper',\n",
       " 'zfill']"
      ]
     },
     "execution_count": 15,
     "metadata": {},
     "output_type": "execute_result"
    }
   ],
   "source": [
    "dir(str)  #to find the functions related to the data type"
   ]
  },
  {
   "cell_type": "code",
   "execution_count": 18,
   "id": "d7ad99e7",
   "metadata": {},
   "outputs": [
    {
     "data": {
      "text/plain": [
       "'Welcome to python'"
      ]
     },
     "execution_count": 18,
     "metadata": {},
     "output_type": "execute_result"
    }
   ],
   "source": [
    "str1 = \"WelcOmE tO PytHOn\"\n",
    "str1.capitalize()"
   ]
  },
  {
   "cell_type": "code",
   "execution_count": 19,
   "id": "f3a48e2b",
   "metadata": {},
   "outputs": [
    {
     "data": {
      "text/plain": [
       "'WELCOME TO PYTHON'"
      ]
     },
     "execution_count": 19,
     "metadata": {},
     "output_type": "execute_result"
    }
   ],
   "source": [
    "str1.upper()"
   ]
  },
  {
   "cell_type": "code",
   "execution_count": 20,
   "id": "90831010",
   "metadata": {},
   "outputs": [
    {
     "data": {
      "text/plain": [
       "'welcome to python'"
      ]
     },
     "execution_count": 20,
     "metadata": {},
     "output_type": "execute_result"
    }
   ],
   "source": [
    "str1.lower()"
   ]
  },
  {
   "cell_type": "code",
   "execution_count": 21,
   "id": "48501922",
   "metadata": {},
   "outputs": [
    {
     "data": {
      "text/plain": [
       "'Welcome To Python'"
      ]
     },
     "execution_count": 21,
     "metadata": {},
     "output_type": "execute_result"
    }
   ],
   "source": [
    "str1.title()"
   ]
  },
  {
   "cell_type": "code",
   "execution_count": 23,
   "id": "7229b784",
   "metadata": {},
   "outputs": [
    {
     "name": "stdout",
     "output_type": "stream",
     "text": [
      "bIryANI\n",
      "kUnAl\n"
     ]
    }
   ],
   "source": [
    "food = \"BiRYani\"\n",
    "name = \"KuNaL\"\n",
    "print(food.swapcase())\n",
    "print(name.swapcase())"
   ]
  },
  {
   "cell_type": "code",
   "execution_count": 25,
   "id": "3f2032a6",
   "metadata": {},
   "outputs": [
    {
     "name": "stdout",
     "output_type": "stream",
     "text": [
      "['My', 'name', 'is', 'Kunal.']\n"
     ]
    },
    {
     "data": {
      "text/plain": [
       "['Mumbai', 'Pune', 'Mumbai']"
      ]
     },
     "execution_count": 25,
     "metadata": {},
     "output_type": "execute_result"
    }
   ],
   "source": [
    "s1 = \"My name is Kunal.\"\n",
    "print(s1.split())\n",
    "s2 = \"Mumbai-Pune-Mumbai\"\n",
    "s2.split(\"-\")"
   ]
  },
  {
   "cell_type": "code",
   "execution_count": 26,
   "id": "c4feeb8f",
   "metadata": {},
   "outputs": [
    {
     "data": {
      "text/plain": [
       "['xyz', 'email.com']"
      ]
     },
     "execution_count": 26,
     "metadata": {},
     "output_type": "execute_result"
    }
   ],
   "source": [
    "mail = \"xyz@email.com\"\n",
    "mail.split(\"@\")"
   ]
  },
  {
   "cell_type": "code",
   "execution_count": 27,
   "id": "fe37d5e9",
   "metadata": {},
   "outputs": [
    {
     "data": {
      "text/plain": [
       "'My name is Prachi.'"
      ]
     },
     "execution_count": 27,
     "metadata": {},
     "output_type": "execute_result"
    }
   ],
   "source": [
    "s1.replace(\"Kunal\",\"Prachi\")"
   ]
  },
  {
   "cell_type": "code",
   "execution_count": 28,
   "id": "67d52dd9",
   "metadata": {},
   "outputs": [
    {
     "data": {
      "text/plain": [
       "'\\nmultiline comment\\n'"
      ]
     },
     "execution_count": 28,
     "metadata": {},
     "output_type": "execute_result"
    }
   ],
   "source": [
    "# single line comment\n",
    "\n",
    "\"\"\"\n",
    "multiline comment\n",
    "\"\"\""
   ]
  },
  {
   "cell_type": "code",
   "execution_count": 29,
   "id": "b3920c8c",
   "metadata": {},
   "outputs": [
    {
     "data": {
      "text/plain": [
       "1"
      ]
     },
     "execution_count": 29,
     "metadata": {},
     "output_type": "execute_result"
    }
   ],
   "source": [
    "city = \"Kolhapur\"\n",
    "city.count(\"a\")"
   ]
  },
  {
   "cell_type": "code",
   "execution_count": 31,
   "id": "511b3a8e",
   "metadata": {},
   "outputs": [
    {
     "data": {
      "text/plain": [
       "2"
      ]
     },
     "execution_count": 31,
     "metadata": {},
     "output_type": "execute_result"
    }
   ],
   "source": [
    "\"mumbai\".count(\"m\")"
   ]
  },
  {
   "cell_type": "code",
   "execution_count": 32,
   "id": "5317e189",
   "metadata": {},
   "outputs": [
    {
     "data": {
      "text/plain": [
       "'horsehorsehorsehorse'"
      ]
     },
     "execution_count": 32,
     "metadata": {},
     "output_type": "execute_result"
    }
   ],
   "source": [
    "name = \"horse\"\n",
    "name * 4"
   ]
  },
  {
   "cell_type": "code",
   "execution_count": 33,
   "id": "241d196e",
   "metadata": {},
   "outputs": [
    {
     "data": {
      "text/plain": [
       "25"
      ]
     },
     "execution_count": 33,
     "metadata": {},
     "output_type": "execute_result"
    }
   ],
   "source": [
    "n1 = 5\n",
    "n1*5"
   ]
  },
  {
   "cell_type": "code",
   "execution_count": 1,
   "id": "d2b1aecf",
   "metadata": {},
   "outputs": [
    {
     "data": {
      "text/plain": [
       "'SuyashKulkarni'"
      ]
     },
     "execution_count": 1,
     "metadata": {},
     "output_type": "execute_result"
    }
   ],
   "source": [
    "name = \"Suyash\"\n",
    "surname = \"Kulkarni\"\n",
    "name + surname # \"+\" symbol concatinates the values of varibles"
   ]
  },
  {
   "cell_type": "code",
   "execution_count": 2,
   "id": "d17f857d",
   "metadata": {},
   "outputs": [
    {
     "data": {
      "text/plain": [
       "'Suyash Kulkarni'"
      ]
     },
     "execution_count": 2,
     "metadata": {},
     "output_type": "execute_result"
    }
   ],
   "source": [
    "name + \" \" + \"Kulkarni\""
   ]
  },
  {
   "cell_type": "code",
   "execution_count": 4,
   "id": "28d66a70",
   "metadata": {},
   "outputs": [
    {
     "name": "stdout",
     "output_type": "stream",
     "text": [
      "A is smaller than B\n",
      "True block\n",
      "370\n"
     ]
    }
   ],
   "source": [
    "# Conditional statements\n",
    "\n",
    "a = 130\n",
    "b = 240\n",
    "if (a<b):\n",
    "    print(\"A is smaller than B\")\n",
    "    print(\"True block\")\n",
    "    c = a+b\n",
    "    print(c)\n",
    "else:\n",
    "    print(\"B is smaller than A\")\n",
    "    print(\"False block\")"
   ]
  },
  {
   "cell_type": "code",
   "execution_count": 7,
   "id": "e7d3fc72",
   "metadata": {},
   "outputs": [
    {
     "name": "stdout",
     "output_type": "stream",
     "text": [
      "130 is smaller than 240\n"
     ]
    }
   ],
   "source": [
    "a = 130\n",
    "b = 240\n",
    "if (a<b):\n",
    "    print(a,\"is smaller than\",b)\n",
    "else:\n",
    "    print(b,\"is smaller than\",a)"
   ]
  },
  {
   "cell_type": "code",
   "execution_count": 22,
   "id": "6573df4b",
   "metadata": {},
   "outputs": [
    {
     "name": "stdout",
     "output_type": "stream",
     "text": [
      "Hello from True if\n",
      "Bye....outside of if block\n",
      "Net_Salary is 18750.0\n"
     ]
    }
   ],
   "source": [
    "salary = 25000\n",
    "if (salary>20000):\n",
    "    tax = 0.25\n",
    "    print(\"Hello from True if\")\n",
    "else:\n",
    "    tax=0.20\n",
    "    print(\"Hello from false if/ else\")\n",
    "print(\"Bye....outside of if block\")\n",
    "net_salary = salary-tax*salary\n",
    "print(\"Net_Salary is\",net_salary)\n"
   ]
  },
  {
   "cell_type": "code",
   "execution_count": 23,
   "id": "ba8a211e",
   "metadata": {},
   "outputs": [
    {
     "data": {
      "text/plain": [
       "range(5, 10)"
      ]
     },
     "execution_count": 23,
     "metadata": {},
     "output_type": "execute_result"
    }
   ],
   "source": [
    "range(5, 10)"
   ]
  },
  {
   "cell_type": "code",
   "execution_count": 24,
   "id": "426aaea5",
   "metadata": {},
   "outputs": [
    {
     "name": "stdout",
     "output_type": "stream",
     "text": [
      "2\n",
      "3\n",
      "4\n",
      "5\n",
      "6\n",
      "7\n",
      "8\n",
      "9\n",
      "Bye\n"
     ]
    }
   ],
   "source": [
    "# For Loop\n",
    "for i in range(2,10):\n",
    "    print(i)\n",
    "print(\"Bye\")\n"
   ]
  },
  {
   "cell_type": "code",
   "execution_count": 25,
   "id": "9eef16b1",
   "metadata": {},
   "outputs": [
    {
     "name": "stdout",
     "output_type": "stream",
     "text": [
      "1\n",
      "3\n",
      "5\n",
      "7\n",
      "9\n",
      "11\n",
      "13\n",
      "15\n",
      "17\n",
      "19\n"
     ]
    }
   ],
   "source": [
    "# print no 1 to 20 with with 2 no. gap\n",
    "\n",
    "for i in range(1,20,2):\n",
    "    print(i,)"
   ]
  },
  {
   "cell_type": "code",
   "execution_count": 27,
   "id": "84321a43",
   "metadata": {},
   "outputs": [
    {
     "name": "stdout",
     "output_type": "stream",
     "text": [
      "1\n",
      "2\n",
      "3\n",
      "4\n",
      "5\n",
      "6\n",
      "7\n",
      "The for loop broke\n"
     ]
    }
   ],
   "source": [
    "# break statement terminates when the loop condition satisfies\n",
    "\n",
    "for i in range(1,10):\n",
    "    if i == 8:\n",
    "        print(\"The for loop broke\")\n",
    "        break\n",
    "    else:\n",
    "        print(i)"
   ]
  },
  {
   "cell_type": "code",
   "execution_count": 29,
   "id": "928941d2",
   "metadata": {},
   "outputs": [
    {
     "name": "stdout",
     "output_type": "stream",
     "text": [
      "0 0\n",
      "1 1\n",
      "2 4\n",
      "3 9\n",
      "4 16\n",
      "5 25\n",
      "6 36\n",
      "7 49\n",
      "8 64\n",
      "9 81\n"
     ]
    }
   ],
   "source": [
    "for i in range(10):  #default initial is 0\n",
    "    print(i, i*i)"
   ]
  },
  {
   "cell_type": "code",
   "execution_count": 31,
   "id": "7a0fbe0d",
   "metadata": {},
   "outputs": [
    {
     "name": "stdout",
     "output_type": "stream",
     "text": [
      "0 0\n",
      "1 1\n",
      "2 8\n",
      "3 27\n",
      "4 64\n",
      "5 125\n",
      "6 216\n",
      "7 343\n",
      "8 512\n",
      "9 729\n"
     ]
    }
   ],
   "source": [
    "for i in range(10):  #default initial is 0\n",
    "    print(i, i**3)"
   ]
  },
  {
   "cell_type": "code",
   "execution_count": 34,
   "id": "01e8cb04",
   "metadata": {},
   "outputs": [
    {
     "name": "stdout",
     "output_type": "stream",
     "text": [
      "D\n",
      "a\n",
      "t\n",
      "a\n",
      "S\n",
      "c\n",
      "i\n",
      "e\n",
      "n\n",
      "c\n",
      "e\n"
     ]
    }
   ],
   "source": [
    "name = \"DataScience\"\n",
    "for i in name:\n",
    "    print(i)"
   ]
  },
  {
   "cell_type": "code",
   "execution_count": 45,
   "id": "23a554cb",
   "metadata": {},
   "outputs": [
    {
     "name": "stdout",
     "output_type": "stream",
     "text": [
      "Hello \n",
      "Hello Hello \n",
      "Hello Hello Hello \n",
      "Hello Hello Hello Hello \n",
      "Hello Hello Hello Hello Hello \n",
      "Hello Hello Hello Hello Hello Hello \n",
      "Hello Hello Hello Hello Hello Hello Hello \n"
     ]
    }
   ],
   "source": [
    "name = \"Hello\"\n",
    "for i in range(1,8):\n",
    "   print((name + \" \")*i)"
   ]
  },
  {
   "cell_type": "code",
   "execution_count": 56,
   "id": "598c85a3",
   "metadata": {},
   "outputs": [
    {
     "name": "stdout",
     "output_type": "stream",
     "text": [
      "s a a l a r "
     ]
    }
   ],
   "source": [
    "movie = \"SAALAR\"\n",
    "for i in movie:\n",
    "   #print(i)\n",
    "   #print(i.swapcase())   by default end value is enter key\n",
    "    print(i.swapcase(),end=\" \")"
   ]
  },
  {
   "cell_type": "code",
   "execution_count": 58,
   "id": "71147644",
   "metadata": {},
   "outputs": [
    {
     "name": "stdout",
     "output_type": "stream",
     "text": [
      "1 is a odd no.\n",
      "2 is an even no\n",
      "3 is a odd no.\n",
      "4 is an even no\n",
      "5 is a odd no.\n",
      "6 is an even no\n",
      "7 is a odd no.\n",
      "8 is an even no\n",
      "9 is a odd no.\n"
     ]
    }
   ],
   "source": [
    "for i in range(1,10):\n",
    "    if i%2==0:\n",
    "        print(i,\"is an even no\")\n",
    "    else:\n",
    "        print(i,\"is a odd no.\")"
   ]
  },
  {
   "cell_type": "markdown",
   "id": "1c3046bb",
   "metadata": {},
   "source": [
    "# Inroduction Day 3"
   ]
  },
  {
   "cell_type": "code",
   "execution_count": 5,
   "id": "bd8ebd8c",
   "metadata": {},
   "outputs": [
    {
     "name": "stdout",
     "output_type": "stream",
     "text": [
      "Even nos.\n",
      "2 4 6 8 \n",
      "Odd nos.\n",
      "1 3 5 7 9 "
     ]
    }
   ],
   "source": [
    "print(\"Even nos.\")\n",
    "for i in range(1,10):\n",
    "    if i%2==0:\n",
    "        print(i,end=\" \")\n",
    "        \n",
    "print(\"\\nOdd nos.\")\n",
    "for i in range(1,10):\n",
    "    if i%2!=0:\n",
    "        print(i,end=\" \")        "
   ]
  },
  {
   "cell_type": "code",
   "execution_count": 7,
   "id": "98bb408b",
   "metadata": {},
   "outputs": [
    {
     "name": "stdout",
     "output_type": "stream",
     "text": [
      "<class 'bool'>\n",
      "<class 'bool'>\n"
     ]
    }
   ],
   "source": [
    "status = True\n",
    "print(type(status))\n",
    "status1 = False\n",
    "print(type(status1))"
   ]
  },
  {
   "cell_type": "code",
   "execution_count": 9,
   "id": "0557939f",
   "metadata": {},
   "outputs": [
    {
     "name": "stdout",
     "output_type": "stream",
     "text": [
      "DDDD aaaa tttt aaaa      SSSS cccc iiii eeee nnnn cccc eeee "
     ]
    }
   ],
   "source": [
    "# print each letter 4 times\n",
    "\n",
    "for letter in \"Data Science\":\n",
    "    print(letter*4, end= \" \")"
   ]
  },
  {
   "cell_type": "code",
   "execution_count": 10,
   "id": "5865f818",
   "metadata": {},
   "outputs": [
    {
     "data": {
      "text/plain": [
       "7"
      ]
     },
     "execution_count": 10,
     "metadata": {},
     "output_type": "execute_result"
    }
   ],
   "source": [
    "len(\"My name\")  #len function used to find the length of the string"
   ]
  },
  {
   "cell_type": "markdown",
   "id": "a584a073",
   "metadata": {},
   "source": [
    "DATA STRUCTURES"
   ]
  },
  {
   "cell_type": "markdown",
   "id": "ae2c6b2a",
   "metadata": {},
   "source": [
    "# LISTS"
   ]
  },
  {
   "cell_type": "code",
   "execution_count": 11,
   "id": "2281fc1f",
   "metadata": {},
   "outputs": [
    {
     "data": {
      "text/plain": [
       "[22, 33, 44, 55, 66, 77, 88, 99]"
      ]
     },
     "execution_count": 11,
     "metadata": {},
     "output_type": "execute_result"
    }
   ],
   "source": [
    "# LIST ---- Are mutable\n",
    "#created using the square brackets []\n",
    "\n",
    "marks = [22,33,44,55,66,77,88,99]\n",
    "marks"
   ]
  },
  {
   "cell_type": "code",
   "execution_count": 12,
   "id": "8131d377",
   "metadata": {},
   "outputs": [
    {
     "data": {
      "text/plain": [
       "list"
      ]
     },
     "execution_count": 12,
     "metadata": {},
     "output_type": "execute_result"
    }
   ],
   "source": [
    "type(marks)"
   ]
  },
  {
   "cell_type": "code",
   "execution_count": 14,
   "id": "eaa71cd9",
   "metadata": {},
   "outputs": [
    {
     "data": {
      "text/plain": [
       "['__add__',\n",
       " '__class__',\n",
       " '__class_getitem__',\n",
       " '__contains__',\n",
       " '__delattr__',\n",
       " '__delitem__',\n",
       " '__dir__',\n",
       " '__doc__',\n",
       " '__eq__',\n",
       " '__format__',\n",
       " '__ge__',\n",
       " '__getattribute__',\n",
       " '__getitem__',\n",
       " '__gt__',\n",
       " '__hash__',\n",
       " '__iadd__',\n",
       " '__imul__',\n",
       " '__init__',\n",
       " '__init_subclass__',\n",
       " '__iter__',\n",
       " '__le__',\n",
       " '__len__',\n",
       " '__lt__',\n",
       " '__mul__',\n",
       " '__ne__',\n",
       " '__new__',\n",
       " '__reduce__',\n",
       " '__reduce_ex__',\n",
       " '__repr__',\n",
       " '__reversed__',\n",
       " '__rmul__',\n",
       " '__setattr__',\n",
       " '__setitem__',\n",
       " '__sizeof__',\n",
       " '__str__',\n",
       " '__subclasshook__',\n",
       " 'append',\n",
       " 'clear',\n",
       " 'copy',\n",
       " 'count',\n",
       " 'extend',\n",
       " 'index',\n",
       " 'insert',\n",
       " 'pop',\n",
       " 'remove',\n",
       " 'reverse',\n",
       " 'sort']"
      ]
     },
     "execution_count": 14,
     "metadata": {},
     "output_type": "execute_result"
    }
   ],
   "source": [
    "dir(list)"
   ]
  },
  {
   "cell_type": "code",
   "execution_count": 15,
   "id": "5b84fa05",
   "metadata": {},
   "outputs": [
    {
     "data": {
      "text/plain": [
       "8"
      ]
     },
     "execution_count": 15,
     "metadata": {},
     "output_type": "execute_result"
    }
   ],
   "source": [
    "len(marks)"
   ]
  },
  {
   "cell_type": "code",
   "execution_count": 17,
   "id": "7c7ff65b",
   "metadata": {},
   "outputs": [
    {
     "data": {
      "text/plain": [
       "[11, 22, 33, 44, 55, 66, 77, 88]"
      ]
     },
     "execution_count": 17,
     "metadata": {},
     "output_type": "execute_result"
    }
   ],
   "source": [
    "mark = [55,11,88,33,44,77,66,22]\n",
    "new_mark = sorted(mark)       # sorted is not present in dir list but it too sorts in asc order\n",
    "new_mark"
   ]
  },
  {
   "cell_type": "code",
   "execution_count": 18,
   "id": "ae162e3e",
   "metadata": {},
   "outputs": [
    {
     "data": {
      "text/plain": [
       "[55, 11, 88, 33, 44, 77, 66, 22]"
      ]
     },
     "execution_count": 18,
     "metadata": {},
     "output_type": "execute_result"
    }
   ],
   "source": [
    "mark"
   ]
  },
  {
   "cell_type": "code",
   "execution_count": 22,
   "id": "7a55dcee",
   "metadata": {},
   "outputs": [
    {
     "data": {
      "text/plain": [
       "[11, 22, 33, 44, 55, 66, 77, 88, 99]"
      ]
     },
     "execution_count": 22,
     "metadata": {},
     "output_type": "execute_result"
    }
   ],
   "source": [
    "mark.sort()        #sorts in ascending order in dir    \n",
    "mark"
   ]
  },
  {
   "cell_type": "code",
   "execution_count": 21,
   "id": "7cae4496",
   "metadata": {},
   "outputs": [
    {
     "data": {
      "text/plain": [
       "[11, 22, 33, 44, 55, 66, 77, 88, 99]"
      ]
     },
     "execution_count": 21,
     "metadata": {},
     "output_type": "execute_result"
    }
   ],
   "source": [
    "mark.append(99)\n",
    "mark"
   ]
  },
  {
   "cell_type": "code",
   "execution_count": 25,
   "id": "fd2d0133",
   "metadata": {},
   "outputs": [
    {
     "data": {
      "text/plain": [
       "[99, 88, 77, 66, 55, 44, 33, 22, 11]"
      ]
     },
     "execution_count": 25,
     "metadata": {},
     "output_type": "execute_result"
    }
   ],
   "source": [
    "mark.reverse()\n",
    "mark"
   ]
  },
  {
   "cell_type": "code",
   "execution_count": 31,
   "id": "2f3aa3ba",
   "metadata": {},
   "outputs": [
    {
     "data": {
      "text/plain": [
       "[95, 85, 75, 65, 55, 45, 35, 25, 15]"
      ]
     },
     "execution_count": 31,
     "metadata": {},
     "output_type": "execute_result"
    }
   ],
   "source": [
    "marks2= [55,15,95,65,35,75,25,45,85]\n",
    "marks2.sort(reverse=True)              #reverse=True sorts in descending order\n",
    "marks2"
   ]
  },
  {
   "cell_type": "code",
   "execution_count": 32,
   "id": "2950cf60",
   "metadata": {},
   "outputs": [
    {
     "data": {
      "text/plain": [
       "[15, 25, 35, 45, 55, 65, 75, 85, 95]"
      ]
     },
     "execution_count": 32,
     "metadata": {},
     "output_type": "execute_result"
    }
   ],
   "source": [
    "marks2= [55,15,95,65,35,75,25,45,85]\n",
    "marks2.sort(reverse=False)              #reverse=False sorts in ascending order  but it is default\n",
    "marks2"
   ]
  },
  {
   "cell_type": "code",
   "execution_count": 33,
   "id": "ef24c928",
   "metadata": {},
   "outputs": [
    {
     "data": {
      "text/plain": [
       "[15, 25, 35, 45, 55, 65, 75, 85, 95]"
      ]
     },
     "execution_count": 33,
     "metadata": {},
     "output_type": "execute_result"
    }
   ],
   "source": [
    "marks2"
   ]
  },
  {
   "cell_type": "code",
   "execution_count": 34,
   "id": "d46adfa9",
   "metadata": {},
   "outputs": [
    {
     "data": {
      "text/plain": [
       "[44, 88, 22, 99, 66, 77, 11, 55]"
      ]
     },
     "execution_count": 34,
     "metadata": {},
     "output_type": "execute_result"
    }
   ],
   "source": [
    "marks3 = [44,88,22,99,66,77,11,55]\n",
    "marks3"
   ]
  },
  {
   "cell_type": "code",
   "execution_count": 35,
   "id": "ff6d0598",
   "metadata": {},
   "outputs": [
    {
     "data": {
      "text/plain": [
       "True"
      ]
     },
     "execution_count": 35,
     "metadata": {},
     "output_type": "execute_result"
    }
   ],
   "source": [
    "99 in marks     # gives either true or false"
   ]
  },
  {
   "cell_type": "code",
   "execution_count": 36,
   "id": "e93b77a2",
   "metadata": {},
   "outputs": [
    {
     "data": {
      "text/plain": [
       "[10, 20, 30, 40, 50, 60]"
      ]
     },
     "execution_count": 36,
     "metadata": {},
     "output_type": "execute_result"
    }
   ],
   "source": [
    "list1 = [10,20,30]\n",
    "list2 = [40,50,60]\n",
    "list1 + list2        #concates list1 and list2"
   ]
  },
  {
   "cell_type": "code",
   "execution_count": 37,
   "id": "e1733134",
   "metadata": {},
   "outputs": [
    {
     "data": {
      "text/plain": [
       "[10, 20, 30, 40, 50, 60, 10, 20, 30, 40, 50, 60, 10, 20, 30, 40, 50, 60]"
      ]
     },
     "execution_count": 37,
     "metadata": {},
     "output_type": "execute_result"
    }
   ],
   "source": [
    "(list1 + list2)*3       #repeats 3 times"
   ]
  },
  {
   "cell_type": "code",
   "execution_count": 38,
   "id": "7dfc0703",
   "metadata": {},
   "outputs": [
    {
     "data": {
      "text/plain": [
       "['Mango', 'Apple', 'Banana', 'Pineapple', 'Custard apple', 'Strawberry']"
      ]
     },
     "execution_count": 38,
     "metadata": {},
     "output_type": "execute_result"
    }
   ],
   "source": [
    "# list of strings\n",
    "\n",
    "list3 = [\"Mango\", \"Apple\", \"Banana\", \"Pineapple\", \"Custard apple\", \"Strawberry\"]\n",
    "list3"
   ]
  },
  {
   "cell_type": "code",
   "execution_count": 40,
   "id": "0959db91",
   "metadata": {},
   "outputs": [
    {
     "name": "stdout",
     "output_type": "stream",
     "text": [
      "MANGO\n",
      "APPLE\n",
      "BANANA\n",
      "PINEAPPLE\n",
      "CUSTARD APPLE\n",
      "STRAWBERRY\n"
     ]
    }
   ],
   "source": [
    "#display loop by changing the case of fruit in upper case\n",
    "for fruit in list3:\n",
    "    print(fruit.upper())   #prints one below another"
   ]
  },
  {
   "cell_type": "code",
   "execution_count": 42,
   "id": "928621b6",
   "metadata": {},
   "outputs": [
    {
     "name": "stdout",
     "output_type": "stream",
     "text": [
      "MANGO,APPLE,BANANA,PINEAPPLE,CUSTARD APPLE,STRAWBERRY,"
     ]
    }
   ],
   "source": [
    "for fruit in list3:\n",
    "    print(fruit.upper(),end=\",\")"
   ]
  },
  {
   "cell_type": "code",
   "execution_count": 43,
   "id": "4192c20d",
   "metadata": {},
   "outputs": [
    {
     "name": "stdout",
     "output_type": "stream",
     "text": [
      "Mango Apple Banana Pineapple Castard apple Strawberry "
     ]
    }
   ],
   "source": [
    "for fruit in list3:\n",
    "    print(fruit.replace(\"u\",\"a\"),end=\" \")"
   ]
  },
  {
   "cell_type": "code",
   "execution_count": 44,
   "id": "08c94f98",
   "metadata": {},
   "outputs": [
    {
     "data": {
      "text/plain": [
       "'Pineapple'"
      ]
     },
     "execution_count": 44,
     "metadata": {},
     "output_type": "execute_result"
    }
   ],
   "source": [
    "#In python indexing start with 0    list3 = [\"Mango\", \"Apple\", \"Banana\", \"Pineapple\", \"Custard apple\", \"Strawberry\"]\n",
    "list3[3]"
   ]
  },
  {
   "cell_type": "code",
   "execution_count": 45,
   "id": "909b839b",
   "metadata": {},
   "outputs": [
    {
     "data": {
      "text/plain": [
       "1"
      ]
     },
     "execution_count": 45,
     "metadata": {},
     "output_type": "execute_result"
    }
   ],
   "source": [
    "list3.count(\"Banana\")  # no of elements in list is given"
   ]
  },
  {
   "cell_type": "code",
   "execution_count": 46,
   "id": "86e3e7c0",
   "metadata": {},
   "outputs": [
    {
     "ename": "IndexError",
     "evalue": "list index out of range",
     "output_type": "error",
     "traceback": [
      "\u001b[1;31m---------------------------------------------------------------------------\u001b[0m",
      "\u001b[1;31mIndexError\u001b[0m                                Traceback (most recent call last)",
      "\u001b[1;32m~\\AppData\\Local\\Temp\\ipykernel_13276\\3622800595.py\u001b[0m in \u001b[0;36m<module>\u001b[1;34m\u001b[0m\n\u001b[1;32m----> 1\u001b[1;33m \u001b[0mlist3\u001b[0m\u001b[1;33m[\u001b[0m\u001b[1;36m6\u001b[0m\u001b[1;33m]\u001b[0m    \u001b[1;31m# it raise an error\u001b[0m\u001b[1;33m\u001b[0m\u001b[1;33m\u001b[0m\u001b[0m\n\u001b[0m",
      "\u001b[1;31mIndexError\u001b[0m: list index out of range"
     ]
    }
   ],
   "source": [
    "list3[6]    # it raise an error due to list doesn't consist the 6 element"
   ]
  },
  {
   "cell_type": "markdown",
   "id": "799c9484",
   "metadata": {},
   "source": [
    "SLICING"
   ]
  },
  {
   "cell_type": "code",
   "execution_count": 47,
   "id": "d551fff5",
   "metadata": {},
   "outputs": [
    {
     "data": {
      "text/plain": [
       "['Mango', 'Apple', 'Banana', 'Pineapple']"
      ]
     },
     "execution_count": 47,
     "metadata": {},
     "output_type": "execute_result"
    }
   ],
   "source": [
    "list3[0:4]"
   ]
  },
  {
   "cell_type": "code",
   "execution_count": 48,
   "id": "01e0dfc7",
   "metadata": {},
   "outputs": [
    {
     "data": {
      "text/plain": [
       "['Apple', 'Banana', 'Pineapple', 'Custard apple', 'Strawberry']"
      ]
     },
     "execution_count": 48,
     "metadata": {},
     "output_type": "execute_result"
    }
   ],
   "source": [
    "#from apple to strawberry \n",
    "list3[1:]    # default end value is last element of list"
   ]
  },
  {
   "cell_type": "code",
   "execution_count": 50,
   "id": "4f645ec0",
   "metadata": {},
   "outputs": [
    {
     "data": {
      "text/plain": [
       "['Mango', 'Apple', 'Banana', 'Pineapple']"
      ]
     },
     "execution_count": 50,
     "metadata": {},
     "output_type": "execute_result"
    }
   ],
   "source": [
    "#from beginning to pineapple\n",
    "list3[:4]"
   ]
  },
  {
   "cell_type": "code",
   "execution_count": 51,
   "id": "5a5969e2",
   "metadata": {},
   "outputs": [
    {
     "data": {
      "text/plain": [
       "['Mango', 'Apple', 'Banana', 'Pineapple', 'Custard apple', 'Strawberry']"
      ]
     },
     "execution_count": 51,
     "metadata": {},
     "output_type": "execute_result"
    }
   ],
   "source": [
    "list3"
   ]
  },
  {
   "cell_type": "code",
   "execution_count": 52,
   "id": "012edfb2",
   "metadata": {},
   "outputs": [
    {
     "data": {
      "text/plain": [
       "'Strawberry'"
      ]
     },
     "execution_count": 52,
     "metadata": {},
     "output_type": "execute_result"
    }
   ],
   "source": [
    "# negative indexing\n",
    "list3[-1]"
   ]
  },
  {
   "cell_type": "code",
   "execution_count": 53,
   "id": "e54157b4",
   "metadata": {},
   "outputs": [
    {
     "data": {
      "text/plain": [
       "'Pineapple'"
      ]
     },
     "execution_count": 53,
     "metadata": {},
     "output_type": "execute_result"
    }
   ],
   "source": [
    "list3[-3]"
   ]
  },
  {
   "cell_type": "code",
   "execution_count": 54,
   "id": "918c4a3b",
   "metadata": {},
   "outputs": [
    {
     "data": {
      "text/plain": [
       "'Mango'"
      ]
     },
     "execution_count": 54,
     "metadata": {},
     "output_type": "execute_result"
    }
   ],
   "source": [
    "list3[-6]"
   ]
  },
  {
   "cell_type": "code",
   "execution_count": 56,
   "id": "77fb6ad8",
   "metadata": {},
   "outputs": [
    {
     "data": {
      "text/plain": [
       "['Mango', 'Banana', 'Custard apple']"
      ]
     },
     "execution_count": 56,
     "metadata": {},
     "output_type": "execute_result"
    }
   ],
   "source": [
    "#start, stop, step\n",
    "list3[::2]"
   ]
  },
  {
   "cell_type": "code",
   "execution_count": 66,
   "id": "1bbba8c4",
   "metadata": {},
   "outputs": [
    {
     "name": "stdout",
     "output_type": "stream",
     "text": [
      "[1, 2, 3, 4, 5, 6, 7, 8, 9, 10, 11, 12, 13, 14, 15, 16, 17, 18, 19, 20, 21, 22, 23, 24, 25, 26, 27, 28, 29, 30] "
     ]
    }
   ],
   "source": [
    "n1=list(range(1,31))     #list is inbuilt function\n",
    "print(n1,end=\" \")"
   ]
  },
  {
   "cell_type": "code",
   "execution_count": 67,
   "id": "401535fb",
   "metadata": {},
   "outputs": [
    {
     "name": "stdout",
     "output_type": "stream",
     "text": [
      "[1, 3, 5, 7, 9, 11, 13, 15, 17, 19, 21, 23, 25, 27, 29] "
     ]
    }
   ],
   "source": [
    "n2=list(range(1,31,2))     #list is inbuilt function\n",
    "print(n2,end=\" \")"
   ]
  },
  {
   "cell_type": "code",
   "execution_count": 68,
   "id": "946ae22c",
   "metadata": {},
   "outputs": [
    {
     "data": {
      "text/plain": [
       "[1, 5, 9, 13, 17, 21, 25, 29]"
      ]
     },
     "execution_count": 68,
     "metadata": {},
     "output_type": "execute_result"
    }
   ],
   "source": [
    "n1[::4]"
   ]
  },
  {
   "cell_type": "code",
   "execution_count": 69,
   "id": "72421257",
   "metadata": {},
   "outputs": [
    {
     "data": {
      "text/plain": [
       "[3, 7, 11, 15]"
      ]
     },
     "execution_count": 69,
     "metadata": {},
     "output_type": "execute_result"
    }
   ],
   "source": [
    "n1[2:15:4]  #start,stop,step"
   ]
  },
  {
   "cell_type": "code",
   "execution_count": 70,
   "id": "ad34e148",
   "metadata": {},
   "outputs": [
    {
     "name": "stdout",
     "output_type": "stream",
     "text": [
      "['Mango', 'Apple', 'Banana', 'Pineapple', 'Custard apple', 'Strawberry'],"
     ]
    }
   ],
   "source": [
    "print(list3,end=\",\")"
   ]
  },
  {
   "cell_type": "code",
   "execution_count": 74,
   "id": "8b6c7e01",
   "metadata": {},
   "outputs": [
    {
     "data": {
      "text/plain": [
       "['Strawberry', 'Custard apple', 'Pineapple', 'Banana', 'Apple', 'Mango']"
      ]
     },
     "execution_count": 74,
     "metadata": {},
     "output_type": "execute_result"
    }
   ],
   "source": [
    "list3[::-1] #step is negative it starts from last"
   ]
  },
  {
   "cell_type": "code",
   "execution_count": 75,
   "id": "58349dce",
   "metadata": {},
   "outputs": [
    {
     "data": {
      "text/plain": [
       "['Strawberry', 'Pineapple', 'Apple']"
      ]
     },
     "execution_count": 75,
     "metadata": {},
     "output_type": "execute_result"
    }
   ],
   "source": [
    "list3[::-2]"
   ]
  },
  {
   "cell_type": "code",
   "execution_count": 77,
   "id": "216c2624",
   "metadata": {},
   "outputs": [
    {
     "data": {
      "text/plain": [
       "True"
      ]
     },
     "execution_count": 77,
     "metadata": {},
     "output_type": "execute_result"
    }
   ],
   "source": [
    "#use of in keyword in list for searching subword in a word/string\n",
    "\"the\" in \"Netherland\""
   ]
  },
  {
   "cell_type": "markdown",
   "id": "be925203",
   "metadata": {},
   "source": [
    "# Introduction Day 4"
   ]
  },
  {
   "cell_type": "code",
   "execution_count": 81,
   "id": "3e9e3047",
   "metadata": {},
   "outputs": [
    {
     "data": {
      "text/plain": [
       "['Mango', 'Apple', 'Banana', 'Pineapple', 'Custard apple', 'Strawberry']"
      ]
     },
     "execution_count": 81,
     "metadata": {},
     "output_type": "execute_result"
    }
   ],
   "source": [
    "list3"
   ]
  },
  {
   "cell_type": "code",
   "execution_count": 82,
   "id": "f03ecaf9",
   "metadata": {},
   "outputs": [],
   "source": [
    "list3.append(\"Mulberry\")    #adds element at end of list"
   ]
  },
  {
   "cell_type": "code",
   "execution_count": 83,
   "id": "8abf7b19",
   "metadata": {},
   "outputs": [
    {
     "data": {
      "text/plain": [
       "['Mango',\n",
       " 'Apple',\n",
       " 'Banana',\n",
       " 'Pineapple',\n",
       " 'Custard apple',\n",
       " 'Strawberry',\n",
       " 'Mulberry']"
      ]
     },
     "execution_count": 83,
     "metadata": {},
     "output_type": "execute_result"
    }
   ],
   "source": [
    "list3"
   ]
  },
  {
   "cell_type": "code",
   "execution_count": 84,
   "id": "86dd6345",
   "metadata": {},
   "outputs": [],
   "source": [
    "list3.remove(\"Mulberry\")      #removes the element from list"
   ]
  },
  {
   "cell_type": "code",
   "execution_count": 85,
   "id": "ef1be9cb",
   "metadata": {},
   "outputs": [
    {
     "data": {
      "text/plain": [
       "['Mango', 'Apple', 'Banana', 'Pineapple', 'Custard apple', 'Strawberry']"
      ]
     },
     "execution_count": 85,
     "metadata": {},
     "output_type": "execute_result"
    }
   ],
   "source": [
    "list3"
   ]
  },
  {
   "cell_type": "code",
   "execution_count": 86,
   "id": "855e9710",
   "metadata": {},
   "outputs": [
    {
     "data": {
      "text/plain": [
       "['Mango', 'Apple', 'Banana', 'Pineapple']"
      ]
     },
     "execution_count": 86,
     "metadata": {},
     "output_type": "execute_result"
    }
   ],
   "source": [
    "#Slicing \n",
    "list3[0:4]"
   ]
  },
  {
   "cell_type": "code",
   "execution_count": 89,
   "id": "81a9e192",
   "metadata": {},
   "outputs": [
    {
     "name": "stdout",
     "output_type": "stream",
     "text": [
      "Strawberry\n"
     ]
    }
   ],
   "source": [
    "#display the fruit name which contain berry in it\n",
    "for i in list3:\n",
    "    if \"berry\" in i:\n",
    "        print(i)"
   ]
  },
  {
   "cell_type": "code",
   "execution_count": 90,
   "id": "c502c436",
   "metadata": {},
   "outputs": [
    {
     "name": "stdout",
     "output_type": "stream",
     "text": [
      "Apple\n",
      "Pineapple\n",
      "Custard apple\n"
     ]
    }
   ],
   "source": [
    "#display the fruit name which contain pple in it\n",
    "for fruit in list3:\n",
    "    if \"pple\" in fruit:\n",
    "        print(fruit)"
   ]
  },
  {
   "cell_type": "code",
   "execution_count": 105,
   "id": "f5339a86",
   "metadata": {},
   "outputs": [
    {
     "data": {
      "text/plain": [
       "['Mango',\n",
       " 'Apple',\n",
       " 'Banana',\n",
       " 'Pineapple',\n",
       " 'Custard apple',\n",
       " 'Strawberry',\n",
       " 'Black berry']"
      ]
     },
     "execution_count": 105,
     "metadata": {},
     "output_type": "execute_result"
    }
   ],
   "source": [
    "#list3.append(\"Black berry\")\n",
    "list3.remove(\"Black berry\")\n",
    "list3"
   ]
  },
  {
   "cell_type": "code",
   "execution_count": 109,
   "id": "288089bb",
   "metadata": {},
   "outputs": [
    {
     "name": "stdout",
     "output_type": "stream",
     "text": [
      "['Apple', 'Pineapple', 'Custard apple'] \n",
      "['Mango', 'Banana', 'Strawberry', 'Black berry'] "
     ]
    }
   ],
   "source": [
    "#display the fruit name which contain pple in it\n",
    "list4=[]\n",
    "list5=[]\n",
    "for fruit in list3:\n",
    "    if \"pple\" in fruit:\n",
    "        list4.append(fruit)\n",
    "    else:\n",
    "        list5.append(fruit)\n",
    "        \n",
    "print(list4,end=\" \")\n",
    "print(\"\")\n",
    "print(list5,end=\" \")"
   ]
  },
  {
   "cell_type": "code",
   "execution_count": 110,
   "id": "ac4e8a09",
   "metadata": {},
   "outputs": [
    {
     "data": {
      "text/plain": [
       "['Strawberry', 'Black berry']"
      ]
     },
     "execution_count": 110,
     "metadata": {},
     "output_type": "execute_result"
    }
   ],
   "source": [
    "#display the fruit name which contain berry in it\n",
    "list6=[]\n",
    "for fruit in list3:\n",
    "    if \"berry\" in fruit:\n",
    "        list6.append(fruit)\n",
    "        \n",
    "list6"
   ]
  },
  {
   "cell_type": "code",
   "execution_count": 114,
   "id": "89fefc04",
   "metadata": {},
   "outputs": [
    {
     "name": "stdout",
     "output_type": "stream",
     "text": [
      "[1, 2, 3, 4, 5, 6] \n",
      "[1, 4, 9, 16, 25, 36] "
     ]
    }
   ],
   "source": [
    "#print all the squares of l1 to l2\n",
    "l1 = [1,2,3,4,5,6]\n",
    "l2 = []\n",
    "for i in l1:\n",
    "    l2.append(i**2)\n",
    "print(l1,end= \" \")\n",
    "print()\n",
    "print(l2,end=\" \")"
   ]
  },
  {
   "cell_type": "markdown",
   "id": "28d4a4be",
   "metadata": {},
   "source": [
    "LIST COMPREHENSION ---- to compact your code"
   ]
  },
  {
   "cell_type": "code",
   "execution_count": 115,
   "id": "1e29eb1e",
   "metadata": {},
   "outputs": [
    {
     "name": "stdout",
     "output_type": "stream",
     "text": [
      "[1, 2, 3, 4, 5, 6] \n",
      "[1, 4, 9, 16, 25, 36] "
     ]
    }
   ],
   "source": [
    "l1 = [1,2,3,4,5,6]\n",
    "l2 = [i**2 for i in l1]\n",
    "print(l1,end= \" \")\n",
    "print()\n",
    "print(l2,end=\" \")"
   ]
  },
  {
   "cell_type": "code",
   "execution_count": 116,
   "id": "09b6c031",
   "metadata": {},
   "outputs": [
    {
     "data": {
      "text/plain": [
       "['Mango',\n",
       " 'Apple',\n",
       " 'Banana',\n",
       " 'Pineapple',\n",
       " 'Custard apple',\n",
       " 'Strawberry',\n",
       " 'Black berry']"
      ]
     },
     "execution_count": 116,
     "metadata": {},
     "output_type": "execute_result"
    }
   ],
   "source": [
    "list3"
   ]
  },
  {
   "cell_type": "code",
   "execution_count": 118,
   "id": "245d571e",
   "metadata": {},
   "outputs": [
    {
     "data": {
      "text/plain": [
       "['Strawberry', 'Black berry']"
      ]
     },
     "execution_count": 118,
     "metadata": {},
     "output_type": "execute_result"
    }
   ],
   "source": [
    "l3 = [fruit for fruit in list3 if \"berry\" in fruit]\n",
    "l3"
   ]
  },
  {
   "cell_type": "code",
   "execution_count": 119,
   "id": "4024f9c5",
   "metadata": {},
   "outputs": [
    {
     "data": {
      "text/plain": [
       "['Mango', 'Apple', 'Banana', 'Pineapple', 'Custard apple']"
      ]
     },
     "execution_count": 119,
     "metadata": {},
     "output_type": "execute_result"
    }
   ],
   "source": [
    "l4 = [fruit for fruit in list3 if \"berry\" not in fruit]\n",
    "l4"
   ]
  },
  {
   "cell_type": "code",
   "execution_count": 120,
   "id": "1ec72079",
   "metadata": {},
   "outputs": [
    {
     "data": {
      "text/plain": [
       "['Pune', 'Mumbai', ' Kolhapur', 'Satara', 'Thane', 'Solapur']"
      ]
     },
     "execution_count": 120,
     "metadata": {},
     "output_type": "execute_result"
    }
   ],
   "source": [
    "city = [\"Pune\", \"Mumbai\", \" Kolhapur\", \"Satara\", \"Thane\", \"Solapur\"]\n",
    "city"
   ]
  },
  {
   "cell_type": "code",
   "execution_count": 121,
   "id": "d95dc6d5",
   "metadata": {},
   "outputs": [
    {
     "data": {
      "text/plain": [
       "[' Kolhapur', 'Solapur']"
      ]
     },
     "execution_count": 121,
     "metadata": {},
     "output_type": "execute_result"
    }
   ],
   "source": [
    "newlistpur = [x for x in city if 'pur' in x]\n",
    "newlistpur"
   ]
  },
  {
   "cell_type": "code",
   "execution_count": 122,
   "id": "cb0b9cd0",
   "metadata": {},
   "outputs": [
    {
     "data": {
      "text/plain": [
       "['Mango',\n",
       " 'Apple',\n",
       " 'Banana',\n",
       " 'Pineapple',\n",
       " 'Custard apple',\n",
       " 'Strawberry',\n",
       " 'Black berry']"
      ]
     },
     "execution_count": 122,
     "metadata": {},
     "output_type": "execute_result"
    }
   ],
   "source": [
    "list3"
   ]
  },
  {
   "cell_type": "code",
   "execution_count": 124,
   "id": "cb75bb26",
   "metadata": {},
   "outputs": [
    {
     "data": {
      "text/plain": [
       "4"
      ]
     },
     "execution_count": 124,
     "metadata": {},
     "output_type": "execute_result"
    }
   ],
   "source": [
    "list3.index(\"Custard apple\")  # it returns the index of the element"
   ]
  },
  {
   "cell_type": "code",
   "execution_count": 125,
   "id": "33475799",
   "metadata": {},
   "outputs": [
    {
     "ename": "ValueError",
     "evalue": "'Orange' is not in list",
     "output_type": "error",
     "traceback": [
      "\u001b[1;31m---------------------------------------------------------------------------\u001b[0m",
      "\u001b[1;31mValueError\u001b[0m                                Traceback (most recent call last)",
      "\u001b[1;32m~\\AppData\\Local\\Temp\\ipykernel_13276\\2163322708.py\u001b[0m in \u001b[0;36m<module>\u001b[1;34m\u001b[0m\n\u001b[1;32m----> 1\u001b[1;33m \u001b[0mlist3\u001b[0m\u001b[1;33m.\u001b[0m\u001b[0mindex\u001b[0m\u001b[1;33m(\u001b[0m\u001b[1;34m\"Orange\"\u001b[0m\u001b[1;33m)\u001b[0m   \u001b[1;31m#returns error\u001b[0m\u001b[1;33m\u001b[0m\u001b[1;33m\u001b[0m\u001b[0m\n\u001b[0m",
      "\u001b[1;31mValueError\u001b[0m: 'Orange' is not in list"
     ]
    }
   ],
   "source": [
    "list3.index(\"Orange\")   #returns error"
   ]
  },
  {
   "cell_type": "code",
   "execution_count": 126,
   "id": "5e0d98f1",
   "metadata": {},
   "outputs": [
    {
     "name": "stdout",
     "output_type": "stream",
     "text": [
      "['Mango', 'Apple', 'Banana', 'Pineapple', 'Custard apple', 'Strawberry', 'Black berry'] "
     ]
    }
   ],
   "source": [
    "print(list3,end=\" \")"
   ]
  },
  {
   "cell_type": "code",
   "execution_count": 128,
   "id": "a4785f74",
   "metadata": {},
   "outputs": [
    {
     "data": {
      "text/plain": [
       "['Mango',\n",
       " 'Apple',\n",
       " 'Orange',\n",
       " 'Pineapple',\n",
       " 'Custard apple',\n",
       " 'Strawberry',\n",
       " 'Black berry']"
      ]
     },
     "execution_count": 128,
     "metadata": {},
     "output_type": "execute_result"
    }
   ],
   "source": [
    "#to replace banana with orange\n",
    "# mutable means we can change the value\n",
    "list3[2]=\"Orange\"\n",
    "list3"
   ]
  },
  {
   "cell_type": "markdown",
   "id": "f9d76c39",
   "metadata": {},
   "source": [
    "# TUPLES"
   ]
  },
  {
   "cell_type": "code",
   "execution_count": 129,
   "id": "0bc5b047",
   "metadata": {},
   "outputs": [],
   "source": [
    "#Data Structure = TUPLES ---------- are immmutable\n",
    "#created using round brackets"
   ]
  },
  {
   "cell_type": "code",
   "execution_count": 130,
   "id": "a34b6849",
   "metadata": {},
   "outputs": [
    {
     "data": {
      "text/plain": [
       "(1, 2, 3, 4, 5)"
      ]
     },
     "execution_count": 130,
     "metadata": {},
     "output_type": "execute_result"
    }
   ],
   "source": [
    "t1 = (1,2,3,4,5)\n",
    "t1"
   ]
  },
  {
   "cell_type": "code",
   "execution_count": 131,
   "id": "04588986",
   "metadata": {},
   "outputs": [
    {
     "data": {
      "text/plain": [
       "tuple"
      ]
     },
     "execution_count": 131,
     "metadata": {},
     "output_type": "execute_result"
    }
   ],
   "source": [
    "type(t1)"
   ]
  },
  {
   "cell_type": "code",
   "execution_count": 132,
   "id": "db54fbfb",
   "metadata": {},
   "outputs": [
    {
     "data": {
      "text/plain": [
       "2"
      ]
     },
     "execution_count": 132,
     "metadata": {},
     "output_type": "execute_result"
    }
   ],
   "source": [
    "t1[1]"
   ]
  },
  {
   "cell_type": "code",
   "execution_count": 133,
   "id": "8e4af45b",
   "metadata": {},
   "outputs": [
    {
     "ename": "TypeError",
     "evalue": "'tuple' object does not support item assignment",
     "output_type": "error",
     "traceback": [
      "\u001b[1;31m---------------------------------------------------------------------------\u001b[0m",
      "\u001b[1;31mTypeError\u001b[0m                                 Traceback (most recent call last)",
      "\u001b[1;32m~\\AppData\\Local\\Temp\\ipykernel_13276\\1546240045.py\u001b[0m in \u001b[0;36m<module>\u001b[1;34m\u001b[0m\n\u001b[1;32m----> 1\u001b[1;33m \u001b[0mt1\u001b[0m\u001b[1;33m[\u001b[0m\u001b[1;36m0\u001b[0m\u001b[1;33m]\u001b[0m \u001b[1;33m=\u001b[0m \u001b[1;36m7\u001b[0m\u001b[1;33m\u001b[0m\u001b[1;33m\u001b[0m\u001b[0m\n\u001b[0m\u001b[0;32m      2\u001b[0m \u001b[0mt1\u001b[0m\u001b[1;33m\u001b[0m\u001b[1;33m\u001b[0m\u001b[0m\n",
      "\u001b[1;31mTypeError\u001b[0m: 'tuple' object does not support item assignment"
     ]
    }
   ],
   "source": [
    "t1[0] = 7     #error due to tuple is immmutable\n",
    "t1"
   ]
  },
  {
   "cell_type": "code",
   "execution_count": 134,
   "id": "8692afdc",
   "metadata": {},
   "outputs": [],
   "source": [
    "t2 = t1 + (6,7,8,9,10)"
   ]
  },
  {
   "cell_type": "code",
   "execution_count": 135,
   "id": "22c6df29",
   "metadata": {},
   "outputs": [
    {
     "data": {
      "text/plain": [
       "(1, 2, 3, 4, 5, 6, 7, 8, 9, 10)"
      ]
     },
     "execution_count": 135,
     "metadata": {},
     "output_type": "execute_result"
    }
   ],
   "source": [
    "t2"
   ]
  },
  {
   "cell_type": "code",
   "execution_count": 136,
   "id": "ae41a0df",
   "metadata": {},
   "outputs": [
    {
     "data": {
      "text/plain": [
       "['__add__',\n",
       " '__class__',\n",
       " '__class_getitem__',\n",
       " '__contains__',\n",
       " '__delattr__',\n",
       " '__dir__',\n",
       " '__doc__',\n",
       " '__eq__',\n",
       " '__format__',\n",
       " '__ge__',\n",
       " '__getattribute__',\n",
       " '__getitem__',\n",
       " '__getnewargs__',\n",
       " '__gt__',\n",
       " '__hash__',\n",
       " '__init__',\n",
       " '__init_subclass__',\n",
       " '__iter__',\n",
       " '__le__',\n",
       " '__len__',\n",
       " '__lt__',\n",
       " '__mul__',\n",
       " '__ne__',\n",
       " '__new__',\n",
       " '__reduce__',\n",
       " '__reduce_ex__',\n",
       " '__repr__',\n",
       " '__rmul__',\n",
       " '__setattr__',\n",
       " '__sizeof__',\n",
       " '__str__',\n",
       " '__subclasshook__',\n",
       " 'count',\n",
       " 'index']"
      ]
     },
     "execution_count": 136,
     "metadata": {},
     "output_type": "execute_result"
    }
   ],
   "source": [
    "dir(t1)"
   ]
  },
  {
   "cell_type": "code",
   "execution_count": 137,
   "id": "13559ea8",
   "metadata": {},
   "outputs": [
    {
     "data": {
      "text/plain": [
       "3"
      ]
     },
     "execution_count": 137,
     "metadata": {},
     "output_type": "execute_result"
    }
   ],
   "source": [
    "t1.index(4) # gives index of element"
   ]
  },
  {
   "cell_type": "code",
   "execution_count": 139,
   "id": "27a902c3",
   "metadata": {},
   "outputs": [
    {
     "data": {
      "text/plain": [
       "4"
      ]
     },
     "execution_count": 139,
     "metadata": {},
     "output_type": "execute_result"
    }
   ],
   "source": [
    "t3 = (5,6,7,4,4,3,2,5,5,5,9)\n",
    "t3.count(5) # gives the no. of count of element in the tuple"
   ]
  },
  {
   "cell_type": "code",
   "execution_count": 140,
   "id": "5d7f1738",
   "metadata": {},
   "outputs": [
    {
     "data": {
      "text/plain": [
       "(1, 2, 3, 4, 5)"
      ]
     },
     "execution_count": 140,
     "metadata": {},
     "output_type": "execute_result"
    }
   ],
   "source": [
    "t1"
   ]
  },
  {
   "cell_type": "code",
   "execution_count": 143,
   "id": "0cb30021",
   "metadata": {},
   "outputs": [
    {
     "data": {
      "text/plain": [
       "(1, 2, 3, 4, 5)"
      ]
     },
     "execution_count": 143,
     "metadata": {},
     "output_type": "execute_result"
    }
   ],
   "source": [
    "t1[0:5]"
   ]
  },
  {
   "cell_type": "code",
   "execution_count": 144,
   "id": "399323ee",
   "metadata": {},
   "outputs": [
    {
     "data": {
      "text/plain": [
       "(4, 5)"
      ]
     },
     "execution_count": 144,
     "metadata": {},
     "output_type": "execute_result"
    }
   ],
   "source": [
    "t1[3:]"
   ]
  },
  {
   "cell_type": "markdown",
   "id": "875dfc75",
   "metadata": {},
   "source": [
    "# Introduction Day 5 - Dictionary"
   ]
  },
  {
   "cell_type": "code",
   "execution_count": 145,
   "id": "bfe76a3a",
   "metadata": {},
   "outputs": [],
   "source": [
    "#Data Structur = Dictionary \n",
    "#Is used to store key:value pair\n",
    "#Dictionary is a collection which is ordered, challengable and do not allow duplicates\n",
    "# Created using the {key:value} curly brackets.\n",
    "# Keys are unique identifiers that are associated with each value"
   ]
  },
  {
   "cell_type": "code",
   "execution_count": 147,
   "id": "81c4a084",
   "metadata": {},
   "outputs": [
    {
     "data": {
      "text/plain": [
       "{'Nepal': 'Kathmandu', 'India': 'Delhi', 'England': 'London'}"
      ]
     },
     "execution_count": 147,
     "metadata": {},
     "output_type": "execute_result"
    }
   ],
   "source": [
    "capital_dict = {\"Nepal\":\"Kathmandu\",\"India\":\"Delhi\",\"England\":\"London\"}\n",
    "capital_dict"
   ]
  },
  {
   "cell_type": "code",
   "execution_count": 148,
   "id": "248786ba",
   "metadata": {},
   "outputs": [
    {
     "data": {
      "text/plain": [
       "dict"
      ]
     },
     "execution_count": 148,
     "metadata": {},
     "output_type": "execute_result"
    }
   ],
   "source": [
    "type(capital_dict)"
   ]
  },
  {
   "cell_type": "code",
   "execution_count": 151,
   "id": "41713ac3",
   "metadata": {},
   "outputs": [
    {
     "data": {
      "text/plain": [
       "['__class__',\n",
       " '__class_getitem__',\n",
       " '__contains__',\n",
       " '__delattr__',\n",
       " '__delitem__',\n",
       " '__dir__',\n",
       " '__doc__',\n",
       " '__eq__',\n",
       " '__format__',\n",
       " '__ge__',\n",
       " '__getattribute__',\n",
       " '__getitem__',\n",
       " '__gt__',\n",
       " '__hash__',\n",
       " '__init__',\n",
       " '__init_subclass__',\n",
       " '__ior__',\n",
       " '__iter__',\n",
       " '__le__',\n",
       " '__len__',\n",
       " '__lt__',\n",
       " '__ne__',\n",
       " '__new__',\n",
       " '__or__',\n",
       " '__reduce__',\n",
       " '__reduce_ex__',\n",
       " '__repr__',\n",
       " '__reversed__',\n",
       " '__ror__',\n",
       " '__setattr__',\n",
       " '__setitem__',\n",
       " '__sizeof__',\n",
       " '__str__',\n",
       " '__subclasshook__',\n",
       " 'clear',\n",
       " 'copy',\n",
       " 'fromkeys',\n",
       " 'get',\n",
       " 'items',\n",
       " 'keys',\n",
       " 'pop',\n",
       " 'popitem',\n",
       " 'setdefault',\n",
       " 'update',\n",
       " 'values']"
      ]
     },
     "execution_count": 151,
     "metadata": {},
     "output_type": "execute_result"
    }
   ],
   "source": [
    "dir(capital_dict)"
   ]
  },
  {
   "cell_type": "code",
   "execution_count": 152,
   "id": "7e5c35ce",
   "metadata": {},
   "outputs": [
    {
     "data": {
      "text/plain": [
       "'London'"
      ]
     },
     "execution_count": 152,
     "metadata": {},
     "output_type": "execute_result"
    }
   ],
   "source": [
    "capital_dict[\"England\"]   #gives the value of the key"
   ]
  },
  {
   "cell_type": "code",
   "execution_count": 154,
   "id": "837e48c4",
   "metadata": {},
   "outputs": [
    {
     "data": {
      "text/plain": [
       "dict_keys(['Nepal', 'India', 'England'])"
      ]
     },
     "execution_count": 154,
     "metadata": {},
     "output_type": "execute_result"
    }
   ],
   "source": [
    "keys = capital_dict.keys()      #returns all the keys in the dictionary\n",
    "keys"
   ]
  },
  {
   "cell_type": "code",
   "execution_count": 155,
   "id": "fa6e9a84",
   "metadata": {},
   "outputs": [
    {
     "data": {
      "text/plain": [
       "dict_keys(['Nepal', 'India', 'England'])"
      ]
     },
     "execution_count": 155,
     "metadata": {},
     "output_type": "execute_result"
    }
   ],
   "source": [
    "capital_dict.keys()"
   ]
  },
  {
   "cell_type": "code",
   "execution_count": 156,
   "id": "ce01818e",
   "metadata": {},
   "outputs": [
    {
     "data": {
      "text/plain": [
       "dict_values(['Kathmandu', 'Delhi', 'London'])"
      ]
     },
     "execution_count": 156,
     "metadata": {},
     "output_type": "execute_result"
    }
   ],
   "source": [
    "values = capital_dict.values()      #returns all the values in the dictionary\n",
    "values"
   ]
  },
  {
   "cell_type": "code",
   "execution_count": 157,
   "id": "7b04dc82",
   "metadata": {},
   "outputs": [
    {
     "data": {
      "text/plain": [
       "dict_items([('Nepal', 'Kathmandu'), ('India', 'Delhi'), ('England', 'London')])"
      ]
     },
     "execution_count": 157,
     "metadata": {},
     "output_type": "execute_result"
    }
   ],
   "source": [
    "items = capital_dict.items()      #returns all the key:value in the dictionary\n",
    "items"
   ]
  },
  {
   "cell_type": "code",
   "execution_count": 158,
   "id": "4244383d",
   "metadata": {},
   "outputs": [
    {
     "data": {
      "text/plain": [
       "{'Italy': 'Rome', 'abc': 'xyz'}"
      ]
     },
     "execution_count": 158,
     "metadata": {},
     "output_type": "execute_result"
    }
   ],
   "source": [
    "#update func adds the objects from another dictionary to the original one\n",
    "dict_capital = {\"Italy\":\"Rome\",\"abc\":\"xyz\"}\n",
    "dict_capital"
   ]
  },
  {
   "cell_type": "code",
   "execution_count": 159,
   "id": "f0cf0bc3",
   "metadata": {},
   "outputs": [],
   "source": [
    "capital_dict.update(dict_capital)"
   ]
  },
  {
   "cell_type": "code",
   "execution_count": 160,
   "id": "76e2b15f",
   "metadata": {},
   "outputs": [
    {
     "data": {
      "text/plain": [
       "{'Nepal': 'Kathmandu',\n",
       " 'India': 'Delhi',\n",
       " 'England': 'London',\n",
       " 'Italy': 'Rome',\n",
       " 'abc': 'xyz'}"
      ]
     },
     "execution_count": 160,
     "metadata": {},
     "output_type": "execute_result"
    }
   ],
   "source": [
    "capital_dict"
   ]
  },
  {
   "cell_type": "code",
   "execution_count": 162,
   "id": "51b42492",
   "metadata": {},
   "outputs": [
    {
     "data": {
      "text/plain": [
       "{'Nepal': 'Kathmandu',\n",
       " 'India': 'Delhi',\n",
       " 'England': 'London',\n",
       " 'Italy': 'Rome',\n",
       " 'abc': 'xyz',\n",
       " 'Australia': 'Sydney'}"
      ]
     },
     "execution_count": 162,
     "metadata": {},
     "output_type": "execute_result"
    }
   ],
   "source": [
    "capital_dict.update({\"Australia\":\"Sydney\"})\n",
    "capital_dict"
   ]
  },
  {
   "cell_type": "code",
   "execution_count": 163,
   "id": "5041923f",
   "metadata": {},
   "outputs": [
    {
     "data": {
      "text/plain": [
       "'Sydney'"
      ]
     },
     "execution_count": 163,
     "metadata": {},
     "output_type": "execute_result"
    }
   ],
   "source": [
    "#pop() func gives and removes the value of the key from the dict\n",
    "capital_dict.pop(\"Australia\")"
   ]
  },
  {
   "cell_type": "code",
   "execution_count": 164,
   "id": "e66ce9e2",
   "metadata": {},
   "outputs": [
    {
     "data": {
      "text/plain": [
       "{'Nepal': 'Kathmandu',\n",
       " 'India': 'Delhi',\n",
       " 'England': 'London',\n",
       " 'Italy': 'Rome',\n",
       " 'abc': 'xyz'}"
      ]
     },
     "execution_count": 164,
     "metadata": {},
     "output_type": "execute_result"
    }
   ],
   "source": [
    "capital_dict"
   ]
  },
  {
   "cell_type": "code",
   "execution_count": 167,
   "id": "d496675a",
   "metadata": {},
   "outputs": [
    {
     "data": {
      "text/plain": [
       "{'Nepal': 'Kathmandu',\n",
       " 'India': 'Delhi',\n",
       " 'England': 'London',\n",
       " 'Italy': 'Rome',\n",
       " 'abc': 'Mumbai',\n",
       " 'Maharashtra': 'Mumbai'}"
      ]
     },
     "execution_count": 167,
     "metadata": {},
     "output_type": "execute_result"
    }
   ],
   "source": [
    "capital_dict[\"abc\"]=\"Mumbai\"\n",
    "capital_dict"
   ]
  },
  {
   "cell_type": "code",
   "execution_count": 169,
   "id": "7e997c07",
   "metadata": {},
   "outputs": [
    {
     "data": {
      "text/plain": [
       "('abc', 'Mumbai')"
      ]
     },
     "execution_count": 169,
     "metadata": {},
     "output_type": "execute_result"
    }
   ],
   "source": [
    "#popitem function removes the last entry of the dict\n",
    "capital_dict.popitem()"
   ]
  },
  {
   "cell_type": "code",
   "execution_count": 170,
   "id": "79baad32",
   "metadata": {},
   "outputs": [
    {
     "data": {
      "text/plain": [
       "{'Nepal': 'Kathmandu', 'India': 'Delhi', 'England': 'London', 'Italy': 'Rome'}"
      ]
     },
     "execution_count": 170,
     "metadata": {},
     "output_type": "execute_result"
    }
   ],
   "source": [
    "capital_dict"
   ]
  },
  {
   "cell_type": "code",
   "execution_count": 171,
   "id": "7e6fa29a",
   "metadata": {},
   "outputs": [],
   "source": [
    "#Dictionary can have different data types\n",
    "mylist=['Mango', 'Apple', 'Banana', 'Pineapple', 'Custard apple', 'Strawberry', 'Black berry']"
   ]
  },
  {
   "cell_type": "code",
   "execution_count": 172,
   "id": "18fa2748",
   "metadata": {},
   "outputs": [],
   "source": [
    "mytuple=(2,4,6,8,10,12)"
   ]
  },
  {
   "cell_type": "code",
   "execution_count": 174,
   "id": "b3defb68",
   "metadata": {},
   "outputs": [
    {
     "data": {
      "text/plain": [
       "{'A': ['Mango',\n",
       "  'Apple',\n",
       "  'Banana',\n",
       "  'Pineapple',\n",
       "  'Custard apple',\n",
       "  'Strawberry',\n",
       "  'Black berry'],\n",
       " 'B': (2, 4, 6, 8, 10, 12),\n",
       " 'C': {'Nepal': 'Kathmandu',\n",
       "  'India': 'Delhi',\n",
       "  'England': 'London',\n",
       "  'Italy': 'Rome'}}"
      ]
     },
     "execution_count": 174,
     "metadata": {},
     "output_type": "execute_result"
    }
   ],
   "source": [
    "mydict={\"A\":mylist,\n",
    "       \"B\":mytuple,\n",
    "       \"C\":capital_dict}\n",
    "\n",
    "mydict"
   ]
  },
  {
   "cell_type": "code",
   "execution_count": 177,
   "id": "21cc3177",
   "metadata": {},
   "outputs": [
    {
     "data": {
      "text/plain": [
       "['Mango',\n",
       " 'Apple',\n",
       " 'Banana',\n",
       " 'Pineapple',\n",
       " 'Custard apple',\n",
       " 'Strawberry',\n",
       " 'Black berry']"
      ]
     },
     "execution_count": 177,
     "metadata": {},
     "output_type": "execute_result"
    }
   ],
   "source": [
    "mydict['A']"
   ]
  },
  {
   "cell_type": "code",
   "execution_count": 178,
   "id": "1c16eb43",
   "metadata": {},
   "outputs": [
    {
     "data": {
      "text/plain": [
       "{'Nepal': 'Kathmandu', 'India': 'Delhi', 'England': 'London', 'Italy': 'Rome'}"
      ]
     },
     "execution_count": 178,
     "metadata": {},
     "output_type": "execute_result"
    }
   ],
   "source": [
    "mydict['C']"
   ]
  },
  {
   "cell_type": "code",
   "execution_count": 179,
   "id": "82f5e043",
   "metadata": {},
   "outputs": [
    {
     "data": {
      "text/plain": [
       "'Pineapple'"
      ]
     },
     "execution_count": 179,
     "metadata": {},
     "output_type": "execute_result"
    }
   ],
   "source": [
    "mydict['A'][3]"
   ]
  },
  {
   "cell_type": "code",
   "execution_count": 180,
   "id": "4ad9ecf6",
   "metadata": {},
   "outputs": [
    {
     "data": {
      "text/plain": [
       "'Delhi'"
      ]
     },
     "execution_count": 180,
     "metadata": {},
     "output_type": "execute_result"
    }
   ],
   "source": [
    "mydict['C']['India']"
   ]
  },
  {
   "cell_type": "code",
   "execution_count": 181,
   "id": "8d710c89",
   "metadata": {},
   "outputs": [
    {
     "data": {
      "text/plain": [
       "'Black berry'"
      ]
     },
     "execution_count": 181,
     "metadata": {},
     "output_type": "execute_result"
    }
   ],
   "source": [
    "mydict['A'][6]"
   ]
  },
  {
   "cell_type": "code",
   "execution_count": 183,
   "id": "fb12684c",
   "metadata": {},
   "outputs": [
    {
     "data": {
      "text/plain": [
       "5.0"
      ]
     },
     "execution_count": 183,
     "metadata": {},
     "output_type": "execute_result"
    }
   ],
   "source": [
    "# MATH FUNCTIONS ---------- need to import those modules\n",
    "from math import sqrt\n",
    "sqrt(25)"
   ]
  },
  {
   "cell_type": "code",
   "execution_count": 184,
   "id": "74b2e80f",
   "metadata": {},
   "outputs": [
    {
     "data": {
      "text/plain": [
       "120"
      ]
     },
     "execution_count": 184,
     "metadata": {},
     "output_type": "execute_result"
    }
   ],
   "source": [
    "from math import factorial\n",
    "factorial(5)"
   ]
  },
  {
   "cell_type": "code",
   "execution_count": 185,
   "id": "1533eb2a",
   "metadata": {},
   "outputs": [
    {
     "data": {
      "text/plain": [
       "0.8939966636005579"
      ]
     },
     "execution_count": 185,
     "metadata": {},
     "output_type": "execute_result"
    }
   ],
   "source": [
    "from math import sin, cos, tan            #we can import multiple functions at a time\n",
    "sin(90)"
   ]
  },
  {
   "cell_type": "code",
   "execution_count": 186,
   "id": "2a633671",
   "metadata": {},
   "outputs": [
    {
     "data": {
      "text/plain": [
       "1.6197751905438615"
      ]
     },
     "execution_count": 186,
     "metadata": {},
     "output_type": "execute_result"
    }
   ],
   "source": [
    "tan(45)"
   ]
  },
  {
   "cell_type": "code",
   "execution_count": 187,
   "id": "17388f9f",
   "metadata": {},
   "outputs": [
    {
     "data": {
      "text/plain": [
       "1.0"
      ]
     },
     "execution_count": 187,
     "metadata": {},
     "output_type": "execute_result"
    }
   ],
   "source": [
    "cos(0)"
   ]
  },
  {
   "cell_type": "code",
   "execution_count": 188,
   "id": "dffd1bbc",
   "metadata": {},
   "outputs": [
    {
     "data": {
      "text/plain": [
       "30"
      ]
     },
     "execution_count": 188,
     "metadata": {},
     "output_type": "execute_result"
    }
   ],
   "source": [
    "from math import *      # * is used to import all the functions\n",
    "lis = [5,2,3]\n",
    "prod(lis)            #prod is func for multiplication"
   ]
  },
  {
   "cell_type": "code",
   "execution_count": 190,
   "id": "a1572278",
   "metadata": {},
   "outputs": [
    {
     "name": "stdout",
     "output_type": "stream",
     "text": [
      "60\n"
     ]
    }
   ],
   "source": [
    "#we can do import math\n",
    "import math\n",
    "seq = (2,5,6)\n",
    "print(math.prod(seq))"
   ]
  },
  {
   "cell_type": "code",
   "execution_count": 193,
   "id": "59bbbeb6",
   "metadata": {},
   "outputs": [
    {
     "data": {
      "text/plain": [
       "168"
      ]
     },
     "execution_count": 193,
     "metadata": {},
     "output_type": "execute_result"
    }
   ],
   "source": [
    "import math\n",
    "list = [4,6,7]\n",
    "math.prod(list)"
   ]
  },
  {
   "cell_type": "code",
   "execution_count": 194,
   "id": "8223b92b",
   "metadata": {
    "scrolled": true
   },
   "outputs": [
    {
     "data": {
      "text/plain": [
       "['__doc__',\n",
       " '__loader__',\n",
       " '__name__',\n",
       " '__package__',\n",
       " '__spec__',\n",
       " 'acos',\n",
       " 'acosh',\n",
       " 'asin',\n",
       " 'asinh',\n",
       " 'atan',\n",
       " 'atan2',\n",
       " 'atanh',\n",
       " 'ceil',\n",
       " 'comb',\n",
       " 'copysign',\n",
       " 'cos',\n",
       " 'cosh',\n",
       " 'degrees',\n",
       " 'dist',\n",
       " 'e',\n",
       " 'erf',\n",
       " 'erfc',\n",
       " 'exp',\n",
       " 'expm1',\n",
       " 'fabs',\n",
       " 'factorial',\n",
       " 'floor',\n",
       " 'fmod',\n",
       " 'frexp',\n",
       " 'fsum',\n",
       " 'gamma',\n",
       " 'gcd',\n",
       " 'hypot',\n",
       " 'inf',\n",
       " 'isclose',\n",
       " 'isfinite',\n",
       " 'isinf',\n",
       " 'isnan',\n",
       " 'isqrt',\n",
       " 'lcm',\n",
       " 'ldexp',\n",
       " 'lgamma',\n",
       " 'log',\n",
       " 'log10',\n",
       " 'log1p',\n",
       " 'log2',\n",
       " 'modf',\n",
       " 'nan',\n",
       " 'nextafter',\n",
       " 'perm',\n",
       " 'pi',\n",
       " 'pow',\n",
       " 'prod',\n",
       " 'radians',\n",
       " 'remainder',\n",
       " 'sin',\n",
       " 'sinh',\n",
       " 'sqrt',\n",
       " 'tan',\n",
       " 'tanh',\n",
       " 'tau',\n",
       " 'trunc',\n",
       " 'ulp']"
      ]
     },
     "execution_count": 194,
     "metadata": {},
     "output_type": "execute_result"
    }
   ],
   "source": [
    "dir(math)"
   ]
  },
  {
   "cell_type": "code",
   "execution_count": 195,
   "id": "e662b2e8",
   "metadata": {},
   "outputs": [
    {
     "data": {
      "text/plain": [
       "96"
      ]
     },
     "execution_count": 195,
     "metadata": {},
     "output_type": "execute_result"
    }
   ],
   "source": [
    "sequence=[1,2,3,4,4]\n",
    "import math as mt\n",
    "mt.prod(sequence)"
   ]
  },
  {
   "cell_type": "code",
   "execution_count": 196,
   "id": "7ff195a1",
   "metadata": {},
   "outputs": [
    {
     "data": {
      "text/plain": [
       "9.0"
      ]
     },
     "execution_count": 196,
     "metadata": {},
     "output_type": "execute_result"
    }
   ],
   "source": [
    "mt.sqrt(81)"
   ]
  }
 ],
 "metadata": {
  "kernelspec": {
   "display_name": "Python 3 (ipykernel)",
   "language": "python",
   "name": "python3"
  },
  "language_info": {
   "codemirror_mode": {
    "name": "ipython",
    "version": 3
   },
   "file_extension": ".py",
   "mimetype": "text/x-python",
   "name": "python",
   "nbconvert_exporter": "python",
   "pygments_lexer": "ipython3",
   "version": "3.9.13"
  }
 },
 "nbformat": 4,
 "nbformat_minor": 5
}
